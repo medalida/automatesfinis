{
 "cells": [
  {
   "cell_type": "markdown",
   "metadata": {
    "id": "tm7J027xlF-e"
   },
   "source": [
    "# Automates finis - TP 2 \n",
    "\n",
    "### Objectif du TP\n",
    "\n",
    "L'objectif de ce TP est d'implémenter la déterminisation d'un automate fini. Cela implique deux étapes : premièrement, étant donné un automate fini (potenitellement) non déterministe donné en entrée, il faut appliquer l'algorithme d'élimination des transitions-$\\varepsilon$. Deuxièmement, il faut appliquer l'algorithme de réduction des transitions de façon à créer des nouveaux états composés par des ensembles d'états joignables avec l'automate initial. Finalement, nous vous conseillons de renommer les états de l'automate déterminisé, par exemple, pour mieux le visualiser avec `to_graphviz`."
   ]
  },
  {
   "cell_type": "markdown",
   "metadata": {},
   "source": [
    "### Algorithme d'élimination des transitions-$\\varepsilon$\n",
    "\n",
    "Dans la bibliothèque `automaton.py` fournie, les transitions-$\\varepsilon$ sont représentées par le symbole `%` dans le fichier d'entrée (utilisez la constante `automaton.EPSILON` pour plus d'élégance ;-). Ainsi, l'automate ci-dessous est une version non déterministe de l'automate qui reconnait l'expresison régulière `a*+b*`:"
   ]
  },
  {
   "cell_type": "code",
   "execution_count": 44,
   "metadata": {},
   "outputs": [],
   "source": [
    "from automaton import Automaton\n",
    "a = Automaton(\"astarbstar-epsilon\")\n",
    "source = \"\"\"0 % 1\n",
    "1 a 1\n",
    "0 % 2\n",
    "2 b 2\n",
    "A 1 2\n",
    "\"\"\"\n",
    "a.from_txt(source)\n"
   ]
  },
  {
   "cell_type": "markdown",
   "metadata": {},
   "source": [
    "Dans l'algorithme d'élimination des transitions-$\\varepsilon$, nous devons tout d'abord identifier un état _k_ dans lequel aboutit une transition-$\\varepsilon$. Disons que c'est l'état 1. Ensuite, nous devons identifier tous les états _q_ menant à _k_ avec une transition-$\\varepsilon$ (en l'occurrence, _q=0_ et _k=1_). Finalement, il faut rajouter des transitions depuis _q=0_ vers tous les états _r_ destination d'une transition qui part de _k_. Ici, _r=1_ et le symbole _x_ de cette nouvelle transition de _q_ vers _r_ est _a_. En somme, il faut rajouter une transition depuis _0_ vers _1_ avec _a_:"
   ]
  },
  {
   "cell_type": "code",
   "execution_count": 5,
   "metadata": {},
   "outputs": [
    {
     "name": "stderr",
     "output_type": "stream",
     "text": [
      "WARNING: Redundant transition: 0 -a-> 1\n"
     ]
    }
   ],
   "source": [
    "a.add_transition(\"0\",\"a\",\"1\")\n"
   ]
  },
  {
   "cell_type": "markdown",
   "metadata": {},
   "source": [
    "Puis, on peut supprimer la transition-$\\varepsilon$ cible. Ici, l'état _1_ est un état d'acceptation, donc _0_ devient aussi un état d'acceptation:"
   ]
  },
  {
   "cell_type": "code",
   "execution_count": 49,
   "metadata": {},
   "outputs": [
    {
     "name": "stderr",
     "output_type": "stream",
     "text": [
      "ERROR: Accept state 4 inexistent!\n"
     ]
    },
    {
     "ename": "SystemExit",
     "evalue": "1",
     "output_type": "error",
     "traceback": [
      "An exception has occurred, use %tb to see the full traceback.\n",
      "\u001b[1;31mSystemExit\u001b[0m\u001b[1;31m:\u001b[0m 1\n"
     ]
    },
    {
     "name": "stderr",
     "output_type": "stream",
     "text": [
      "C:\\Users\\DELL_PC\\AppData\\Local\\Programs\\Python\\Python310\\lib\\site-packages\\IPython\\core\\interactiveshell.py:3452: UserWarning: To exit: use 'exit', 'quit', or Ctrl-D.\n",
      "  warn(\"To exit: use 'exit', 'quit', or Ctrl-D.\", stacklevel=1)\n"
     ]
    }
   ],
   "source": [
    "a.remove_transition(\"0\",\"%\",\"1\")\n",
    "a.make_accept(\"4\")\n"
   ]
  },
  {
   "cell_type": "markdown",
   "metadata": {},
   "source": [
    "Une fois que l'algorithme est appliqué à toutes les transitions-$\\varepsilon$, le résultat sera celui-ci :"
   ]
  },
  {
   "cell_type": "code",
   "execution_count": 7,
   "metadata": {},
   "outputs": [],
   "source": [
    "a.add_transition(\"0\",\"b\",\"2\")\n",
    "a.remove_transition(\"0\",\"%\",\"2\")\n",
    "a.make_accept(\"0\") # Il l'est déjà, mais on doit être systématique\n"
   ]
  },
  {
   "cell_type": "markdown",
   "metadata": {},
   "source": [
    "N'oubliez pas que l'élimination des transitions-$\\varepsilon$ peut créer des états inaccessibles. Pour vous aider, une fonction dans `automaton.py` permet de supprimer les états inaccessibles de l'automate. Voici un exemple de son utilisation sur l'automate ci-dessus auquel on rajoute des états inaccessibles."
   ]
  },
  {
   "cell_type": "code",
   "execution_count": 8,
   "metadata": {},
   "outputs": [],
   "source": [
    "a.add_transition(\"3\",\"a\",\"4\")\n",
    "a.add_transition(\"4\",\"a\",\"1\")\n",
    "a.add_transition(\"5\",\"a\",\"6\")\n"
   ]
  },
  {
   "cell_type": "code",
   "execution_count": 9,
   "metadata": {},
   "outputs": [],
   "source": [
    "a.remove_unreachable()\n"
   ]
  },
  {
   "cell_type": "markdown",
   "metadata": {},
   "source": [
    "### Algorithme de réduction des transitions\n",
    "\n",
    "La deuxième étape de la déterminisation est la réduction des transitions. Pour l'illustrer, nous partirons de l'automate ci-dessous qui reconnait le langage des mots sur _{a,b}_ qui finissent par _b_, décrit par l'expression régulière _(a+b)*b_:"
   ]
  },
  {
   "cell_type": "code",
   "execution_count": 10,
   "metadata": {},
   "outputs": [],
   "source": [
    "from automaton import Automaton\n",
    "source = \"\"\"0 a 0\n",
    "0 b 0\n",
    "0 b 1\n",
    "A 1\"\"\"\n",
    "a = Automaton(\"nondeterministe\")\n",
    "a.from_txt(source)\n"
   ]
  },
  {
   "cell_type": "markdown",
   "metadata": {},
   "source": [
    "Pour initialiser l'algorithme, nous construisons un ensemble de nouveaux états à traiter. Elle est initialisée avec une liste composé de l'état initial seul (chaque nouvel état de l'automate déterminisé sera une liste d'états de l'automate original) :"
   ]
  },
  {
   "cell_type": "code",
   "execution_count": 68,
   "metadata": {},
   "outputs": [
    {
     "name": "stdout",
     "output_type": "stream",
     "text": [
      "True\n",
      "{'v', 'w'}\n"
     ]
    }
   ],
   "source": [
    "det = Automaton(\"det\")\n",
    "new_states = set({\"v\",\"w\"})\n",
    "\n",
    "new = set({\"w\"})\n",
    "new.add('v') # une liste d'ensembles\n",
    "h= [\"ggg\", 'g']\n",
    "\n",
    "det.add_transition(\"1\",\"a\",\"6\")\n",
    "det.add_transition(\"7\",\"a\",\"6\")\n",
    "\n",
    "print(str(new_states) == str(new))\n",
    "print(new)\n",
    "\n"
   ]
  },
  {
   "cell_type": "markdown",
   "metadata": {},
   "source": [
    "Ensuite, pour chaque élément de cette liste (qui continuera à grandir), nous constuisons de nouveaux états correspondant à l'ensemble d'états de l'automate initial vers lesquels on peut aller avec chaque symbole. Par exemple, avec _a_ on peut rester dans _0_, et avec _b_ on peut aller dans _0_ et _1_. On va donc rajouter un état à notre liste, et les transitions correspondantes à l'automate déterminisé :"
   ]
  },
  {
   "cell_type": "code",
   "execution_count": 51,
   "metadata": {},
   "outputs": [
    {
     "ename": "AttributeError",
     "evalue": "'set' object has no attribute 'append'",
     "output_type": "error",
     "traceback": [
      "\u001b[1;31m---------------------------------------------------------------------------\u001b[0m",
      "\u001b[1;31mAttributeError\u001b[0m                            Traceback (most recent call last)",
      "\u001b[1;32m~\\AppData\\Local\\Temp/ipykernel_7404/2492041223.py\u001b[0m in \u001b[0;36m<module>\u001b[1;34m\u001b[0m\n\u001b[1;32m----> 1\u001b[1;33m \u001b[0mnew_states\u001b[0m\u001b[1;33m.\u001b[0m\u001b[0mappend\u001b[0m\u001b[1;33m(\u001b[0m\u001b[0mset\u001b[0m\u001b[1;33m(\u001b[0m\u001b[1;33m[\u001b[0m\u001b[0ma\u001b[0m\u001b[1;33m.\u001b[0m\u001b[0mstatesdict\u001b[0m\u001b[1;33m[\u001b[0m\u001b[1;34m\"0\"\u001b[0m\u001b[1;33m]\u001b[0m\u001b[1;33m.\u001b[0m\u001b[0mname\u001b[0m\u001b[1;33m,\u001b[0m \u001b[0ma\u001b[0m\u001b[1;33m.\u001b[0m\u001b[0mstatesdict\u001b[0m\u001b[1;33m[\u001b[0m\u001b[1;34m\"1\"\u001b[0m\u001b[1;33m]\u001b[0m\u001b[1;33m.\u001b[0m\u001b[0mname\u001b[0m\u001b[1;33m]\u001b[0m\u001b[1;33m)\u001b[0m\u001b[1;33m)\u001b[0m\u001b[1;33m\u001b[0m\u001b[1;33m\u001b[0m\u001b[0m\n\u001b[0m\u001b[0;32m      2\u001b[0m \u001b[0mprint\u001b[0m\u001b[1;33m(\u001b[0m\u001b[0mlen\u001b[0m\u001b[1;33m(\u001b[0m\u001b[0mnew_states\u001b[0m\u001b[1;33m)\u001b[0m\u001b[1;33m)\u001b[0m\u001b[1;33m\u001b[0m\u001b[1;33m\u001b[0m\u001b[0m\n\u001b[0;32m      3\u001b[0m \u001b[0mprint\u001b[0m\u001b[1;33m(\u001b[0m\u001b[0mnew_states\u001b[0m\u001b[1;33m)\u001b[0m\u001b[1;33m\u001b[0m\u001b[1;33m\u001b[0m\u001b[0m\n\u001b[0;32m      4\u001b[0m \u001b[0mdet\u001b[0m\u001b[1;33m.\u001b[0m\u001b[0mstates\u001b[0m\u001b[1;33m.\u001b[0m\u001b[0mappend\u001b[0m\u001b[1;33m(\u001b[0m\u001b[1;36m5\u001b[0m\u001b[1;33m)\u001b[0m\u001b[1;33m\u001b[0m\u001b[1;33m\u001b[0m\u001b[0m\n",
      "\u001b[1;31mAttributeError\u001b[0m: 'set' object has no attribute 'append'"
     ]
    }
   ],
   "source": [
    "new_states.append(set([a.statesdict[\"0\"].name, a.statesdict[\"1\"].name]))\n",
    "print(len(new_states))\n",
    "print(new_states)\n",
    "det.states.append(5)"
   ]
  },
  {
   "cell_type": "code",
   "execution_count": 38,
   "metadata": {
    "scrolled": false
   },
   "outputs": [
    {
     "name": "stdout",
     "output_type": "stream",
     "text": [
      "OrderedDict([(\"{'h', 'd'}\", <automaton.State object at 0x0000014E67EA8A60>)])\n"
     ]
    }
   ],
   "source": [
    "det = Automaton(\"det\")\n",
    "det.add_transition(str(new_states),\"a\",str(new_states))\n",
    "det.add_transition(str(new_states),\"b\",str(new_states))\n",
    "print(det.statesdict)"
   ]
  },
  {
   "cell_type": "markdown",
   "metadata": {},
   "source": [
    "Ensuite, il faudra appliquer la même procédure aux nouvel état _{0,1}_, pour enfin obtenir l'automate déterminisé:"
   ]
  },
  {
   "cell_type": "code",
   "execution_count": 50,
   "metadata": {
    "scrolled": true
   },
   "outputs": [
    {
     "ename": "TypeError",
     "evalue": "'set' object is not subscriptable",
     "output_type": "error",
     "traceback": [
      "\u001b[1;31m---------------------------------------------------------------------------\u001b[0m",
      "\u001b[1;31mTypeError\u001b[0m                                 Traceback (most recent call last)",
      "\u001b[1;32m~\\AppData\\Local\\Temp/ipykernel_7404/2322930794.py\u001b[0m in \u001b[0;36m<module>\u001b[1;34m\u001b[0m\n\u001b[1;32m----> 1\u001b[1;33m \u001b[0mdet\u001b[0m\u001b[1;33m.\u001b[0m\u001b[0madd_transition\u001b[0m\u001b[1;33m(\u001b[0m\u001b[0mstr\u001b[0m\u001b[1;33m(\u001b[0m\u001b[0mnew_states\u001b[0m\u001b[1;33m[\u001b[0m\u001b[1;36m1\u001b[0m\u001b[1;33m]\u001b[0m\u001b[1;33m)\u001b[0m\u001b[1;33m,\u001b[0m\u001b[1;34m\"b\"\u001b[0m\u001b[1;33m,\u001b[0m\u001b[0mstr\u001b[0m\u001b[1;33m(\u001b[0m\u001b[0mnew_states\u001b[0m\u001b[1;33m[\u001b[0m\u001b[1;36m1\u001b[0m\u001b[1;33m]\u001b[0m\u001b[1;33m)\u001b[0m\u001b[1;33m)\u001b[0m\u001b[1;33m\u001b[0m\u001b[1;33m\u001b[0m\u001b[0m\n\u001b[0m\u001b[0;32m      2\u001b[0m \u001b[0mdet\u001b[0m\u001b[1;33m.\u001b[0m\u001b[0madd_transition\u001b[0m\u001b[1;33m(\u001b[0m\u001b[0mstr\u001b[0m\u001b[1;33m(\u001b[0m\u001b[0mnew_states\u001b[0m\u001b[1;33m[\u001b[0m\u001b[1;36m1\u001b[0m\u001b[1;33m]\u001b[0m\u001b[1;33m)\u001b[0m\u001b[1;33m,\u001b[0m\u001b[1;34m\"a\"\u001b[0m\u001b[1;33m,\u001b[0m\u001b[0mstr\u001b[0m\u001b[1;33m(\u001b[0m\u001b[0mnew_states\u001b[0m\u001b[1;33m[\u001b[0m\u001b[1;36m0\u001b[0m\u001b[1;33m]\u001b[0m\u001b[1;33m)\u001b[0m\u001b[1;33m)\u001b[0m\u001b[1;33m\u001b[0m\u001b[1;33m\u001b[0m\u001b[0m\n\u001b[0;32m      3\u001b[0m \u001b[0mdet\u001b[0m\u001b[1;33m.\u001b[0m\u001b[0mstates\u001b[0m\u001b[1;33m.\u001b[0m\u001b[0mappend\u001b[0m\u001b[1;33m(\u001b[0m\u001b[1;36m5\u001b[0m\u001b[1;33m)\u001b[0m\u001b[1;33m\u001b[0m\u001b[1;33m\u001b[0m\u001b[0m\n",
      "\u001b[1;31mTypeError\u001b[0m: 'set' object is not subscriptable"
     ]
    }
   ],
   "source": [
    "det.add_transition(str(new_states[1]),\"b\",str(new_states[1]))\n",
    "det.add_transition(str(new_states[1]),\"a\",str(new_states[0]))\n",
    "det.states.append(5)"
   ]
  },
  {
   "cell_type": "markdown",
   "metadata": {},
   "source": [
    "Une fois qu'aucun nouvel état est ajouté à _new_states_, on peut arrêter la procédure et ajouter les états d'acceptation dans le nouvel automate, qui sont tous ceux qui contiennent au moins un état d'acceptation de l'automate original:"
   ]
  },
  {
   "cell_type": "code",
   "execution_count": 13,
   "metadata": {
    "scrolled": true
   },
   "outputs": [
    {
     "data": {
      "image/svg+xml": "<?xml version=\"1.0\" encoding=\"UTF-8\" standalone=\"no\"?>\n<!DOCTYPE svg PUBLIC \"-//W3C//DTD SVG 1.1//EN\"\n \"http://www.w3.org/Graphics/SVG/1.1/DTD/svg11.dtd\">\n<!-- Generated by graphviz version 2.43.0 (0)\n -->\n<!-- Title: finite_state_machine Pages: 1 -->\n<svg width=\"228pt\" height=\"192pt\"\n viewBox=\"0.00 0.00 228.39 191.55\" xmlns=\"http://www.w3.org/2000/svg\" xmlns:xlink=\"http://www.w3.org/1999/xlink\">\n<g id=\"graph0\" class=\"graph\" transform=\"scale(1 1) rotate(0) translate(4 187.55)\">\n<title>finite_state_machine</title>\n<polygon fill=\"white\" stroke=\"transparent\" points=\"-4,4 -4,-187.55 224.39,-187.55 224.39,4 -4,4\"/>\n<text text-anchor=\"middle\" x=\"110.19\" y=\"-7.8\" font-family=\"Times,serif\" font-size=\"14.00\">det</text>\n<!-- {&#39;0&#39;, &#39;1&#39;} -->\n<g id=\"node1\" class=\"node\">\n<title>{&#39;0&#39;, &#39;1&#39;}</title>\n<ellipse fill=\"none\" stroke=\"black\" cx=\"54.05\" cy=\"-96.5\" rx=\"50.09\" ry=\"50.09\"/>\n<ellipse fill=\"none\" stroke=\"black\" cx=\"54.05\" cy=\"-96.5\" rx=\"54.09\" ry=\"54.09\"/>\n<text text-anchor=\"middle\" x=\"54.05\" y=\"-92.8\" font-family=\"Times,serif\" font-size=\"14.00\">{&#39;0&#39;, &#39;1&#39;}</text>\n</g>\n<!-- {&#39;0&#39;, &#39;1&#39;}&#45;&gt;{&#39;0&#39;, &#39;1&#39;} -->\n<g id=\"edge4\" class=\"edge\">\n<title>{&#39;0&#39;, &#39;1&#39;}&#45;&gt;{&#39;0&#39;, &#39;1&#39;}</title>\n<path fill=\"none\" stroke=\"black\" d=\"M40.22,-148.96C41.57,-160.31 46.18,-168.55 54.05,-168.55 59.33,-168.55 63.15,-164.83 65.49,-158.94\"/>\n<polygon fill=\"black\" stroke=\"black\" points=\"68.96,-159.5 67.87,-148.96 62.15,-157.87 68.96,-159.5\"/>\n<text text-anchor=\"middle\" x=\"54.05\" y=\"-172.35\" font-family=\"Times,serif\" font-size=\"14.00\">b</text>\n</g>\n<!-- {&#39;0&#39;} -->\n<g id=\"node3\" class=\"node\">\n<title>{&#39;0&#39;}</title>\n<ellipse fill=\"none\" stroke=\"black\" cx=\"187.24\" cy=\"-58.5\" rx=\"33.29\" ry=\"33.29\"/>\n<text text-anchor=\"middle\" x=\"187.24\" y=\"-54.8\" font-family=\"Times,serif\" font-size=\"14.00\">{&#39;0&#39;}</text>\n</g>\n<!-- {&#39;0&#39;, &#39;1&#39;}&#45;&gt;{&#39;0&#39;} -->\n<g id=\"edge5\" class=\"edge\">\n<title>{&#39;0&#39;, &#39;1&#39;}&#45;&gt;{&#39;0&#39;}</title>\n<path fill=\"none\" stroke=\"black\" d=\"M106.59,-82.87C116.41,-80.17 126.58,-77.31 136.09,-74.5 139.25,-73.57 142.51,-72.58 145.78,-71.58\"/>\n<polygon fill=\"black\" stroke=\"black\" points=\"147.04,-74.85 155.54,-68.53 144.95,-68.17 147.04,-74.85\"/>\n<text text-anchor=\"middle\" x=\"131.09\" y=\"-81.3\" font-family=\"Times,serif\" font-size=\"14.00\">a</text>\n</g>\n<!-- __I__ -->\n<!-- __I__&#45;&gt;{&#39;0&#39;} -->\n<g id=\"edge1\" class=\"edge\">\n<title>__I__&#45;&gt;{&#39;0&#39;}</title>\n<path fill=\"none\" stroke=\"black\" d=\"M55.18,-23.51C57.91,-23.74 102.1,-27.58 136.09,-37.5 139.86,-38.6 143.72,-39.89 147.55,-41.29\"/>\n<polygon fill=\"black\" stroke=\"black\" points=\"146.35,-44.58 156.94,-44.93 148.88,-38.05 146.35,-44.58\"/>\n</g>\n<!-- {&#39;0&#39;}&#45;&gt;{&#39;0&#39;, &#39;1&#39;} -->\n<g id=\"edge3\" class=\"edge\">\n<title>{&#39;0&#39;}&#45;&gt;{&#39;0&#39;, &#39;1&#39;}</title>\n<path fill=\"none\" stroke=\"black\" d=\"M154.04,-56.31C144.89,-56.42 135,-57.24 126.09,-59.5 120.78,-60.85 115.43,-62.65 110.16,-64.75\"/>\n<polygon fill=\"black\" stroke=\"black\" points=\"108.61,-61.61 100.82,-68.79 111.39,-68.03 108.61,-61.61\"/>\n<text text-anchor=\"middle\" x=\"131.09\" y=\"-63.3\" font-family=\"Times,serif\" font-size=\"14.00\">b</text>\n</g>\n<!-- {&#39;0&#39;}&#45;&gt;{&#39;0&#39;} -->\n<g id=\"edge2\" class=\"edge\">\n<title>{&#39;0&#39;}&#45;&gt;{&#39;0&#39;}</title>\n<path fill=\"none\" stroke=\"black\" d=\"M176.74,-89.97C176.63,-100.85 180.13,-109.65 187.24,-109.65 191.9,-109.65 195.01,-105.86 196.57,-100.18\"/>\n<polygon fill=\"black\" stroke=\"black\" points=\"200.08,-100.3 197.74,-89.97 193.12,-99.5 200.08,-100.3\"/>\n<text text-anchor=\"middle\" x=\"187.24\" y=\"-113.45\" font-family=\"Times,serif\" font-size=\"14.00\">a</text>\n</g>\n</g>\n</svg>\n",
      "text/plain": [
       "<automaton.Automaton at 0x7f1ffc625ee0>"
      ]
     },
     "execution_count": 13,
     "metadata": {},
     "output_type": "execute_result"
    }
   ],
   "source": [
    "det.make_accept(str(new_states[1]))\n",
    "det"
   ]
  },
  {
   "cell_type": "markdown",
   "metadata": {},
   "source": [
    "Les étiquettes d'états sont actuellement des ensembles. Une fois l'algorithme fini, vous pouvez (si vous le souhaitez, c'est pas obligatoire) renommer les états avec des noms plus courts :"
   ]
  },
  {
   "cell_type": "code",
   "execution_count": 14,
   "metadata": {},
   "outputs": [
    {
     "data": {
      "image/svg+xml": "<?xml version=\"1.0\" encoding=\"UTF-8\" standalone=\"no\"?>\n<!DOCTYPE svg PUBLIC \"-//W3C//DTD SVG 1.1//EN\"\n \"http://www.w3.org/Graphics/SVG/1.1/DTD/svg11.dtd\">\n<!-- Generated by graphviz version 2.43.0 (0)\n -->\n<!-- Title: finite_state_machine Pages: 1 -->\n<svg width=\"134pt\" height=\"143pt\"\n viewBox=\"0.00 0.00 134.00 142.50\" xmlns=\"http://www.w3.org/2000/svg\" xmlns:xlink=\"http://www.w3.org/1999/xlink\">\n<g id=\"graph0\" class=\"graph\" transform=\"scale(1 1) rotate(0) translate(4 138.5)\">\n<title>finite_state_machine</title>\n<polygon fill=\"white\" stroke=\"transparent\" points=\"-4,4 -4,-138.5 130,-138.5 130,4 -4,4\"/>\n<text text-anchor=\"middle\" x=\"63\" y=\"-7.8\" font-family=\"Times,serif\" font-size=\"14.00\">det</text>\n<!-- 1 -->\n<g id=\"node1\" class=\"node\">\n<title>1</title>\n<ellipse fill=\"none\" stroke=\"black\" cx=\"22\" cy=\"-79.5\" rx=\"18\" ry=\"18\"/>\n<ellipse fill=\"none\" stroke=\"black\" cx=\"22\" cy=\"-79.5\" rx=\"22\" ry=\"22\"/>\n<text text-anchor=\"middle\" x=\"22\" y=\"-75.8\" font-family=\"Times,serif\" font-size=\"14.00\">1</text>\n</g>\n<!-- 1&#45;&gt;1 -->\n<g id=\"edge4\" class=\"edge\">\n<title>1&#45;&gt;1</title>\n<path fill=\"none\" stroke=\"black\" d=\"M13.99,-100.08C12.89,-110.34 15.55,-119.5 22,-119.5 26.13,-119.5 28.71,-115.74 29.74,-110.34\"/>\n<polygon fill=\"black\" stroke=\"black\" points=\"33.24,-110.17 30.01,-100.08 26.25,-109.99 33.24,-110.17\"/>\n<text text-anchor=\"middle\" x=\"22\" y=\"-123.3\" font-family=\"Times,serif\" font-size=\"14.00\">b</text>\n</g>\n<!-- 0 -->\n<g id=\"node3\" class=\"node\">\n<title>0</title>\n<ellipse fill=\"none\" stroke=\"black\" cx=\"108\" cy=\"-56.5\" rx=\"18\" ry=\"18\"/>\n<text text-anchor=\"middle\" x=\"108\" y=\"-52.8\" font-family=\"Times,serif\" font-size=\"14.00\">0</text>\n</g>\n<!-- 1&#45;&gt;0 -->\n<g id=\"edge5\" class=\"edge\">\n<title>1&#45;&gt;0</title>\n<path fill=\"none\" stroke=\"black\" d=\"M44.27,-77.81C52.98,-76.77 63.09,-75.11 72,-72.5 75.44,-71.49 78.97,-70.2 82.41,-68.8\"/>\n<polygon fill=\"black\" stroke=\"black\" points=\"83.98,-71.93 91.69,-64.66 81.13,-65.54 83.98,-71.93\"/>\n<text text-anchor=\"middle\" x=\"67\" y=\"-79.3\" font-family=\"Times,serif\" font-size=\"14.00\">a</text>\n</g>\n<!-- __I__ -->\n<!-- __I__&#45;&gt;0 -->\n<g id=\"edge1\" class=\"edge\">\n<title>__I__&#45;&gt;0</title>\n<path fill=\"none\" stroke=\"black\" d=\"M23.06,-23.52C24.66,-24.15 57.38,-37.01 81.49,-46.48\"/>\n<polygon fill=\"black\" stroke=\"black\" points=\"80.27,-49.76 90.86,-50.16 82.83,-43.25 80.27,-49.76\"/>\n</g>\n<!-- 0&#45;&gt;1 -->\n<g id=\"edge3\" class=\"edge\">\n<title>0&#45;&gt;1</title>\n<path fill=\"none\" stroke=\"black\" d=\"M90.05,-54.95C81.5,-54.64 71.04,-55.02 62,-57.5 57.78,-58.66 53.54,-60.37 49.48,-62.33\"/>\n<polygon fill=\"black\" stroke=\"black\" points=\"47.56,-59.39 40.45,-67.24 50.9,-65.54 47.56,-59.39\"/>\n<text text-anchor=\"middle\" x=\"67\" y=\"-61.3\" font-family=\"Times,serif\" font-size=\"14.00\">b</text>\n</g>\n<!-- 0&#45;&gt;0 -->\n<g id=\"edge2\" class=\"edge\">\n<title>0&#45;&gt;0</title>\n<path fill=\"none\" stroke=\"black\" d=\"M100.97,-73.16C99.41,-83.12 101.75,-92.5 108,-92.5 112,-92.5 114.4,-88.65 115.2,-83.27\"/>\n<polygon fill=\"black\" stroke=\"black\" points=\"118.7,-83.1 115.03,-73.16 111.7,-83.22 118.7,-83.1\"/>\n<text text-anchor=\"middle\" x=\"108\" y=\"-96.3\" font-family=\"Times,serif\" font-size=\"14.00\">a</text>\n</g>\n</g>\n</svg>\n",
      "text/plain": [
       "<automaton.Automaton at 0x7f1ffc625ee0>"
      ]
     },
     "execution_count": 14,
     "metadata": {},
     "output_type": "execute_result"
    }
   ],
   "source": [
    "namecount = 0 # On va numéroter les nouveaux états 0, 1, 2...\n",
    "for statename in det.states : # Pour tous les états du nouvel automate    \n",
    "    newname = str(namecount) # transformer int -> str\n",
    "    det.rename_state(statename, newname) # renommer l'état est une fonction de la bibliothèque\n",
    "    namecount = namecount + 1 # incrémente le compteur de nouveaux états\n",
    "det"
   ]
  },
  {
   "cell_type": "markdown",
   "metadata": {
    "id": "wwbVoN2GlGAh"
   },
   "source": [
    "# Travail à effectuer\n",
    "\n",
    "Vous devez modifier votre programme du TP1 de façon à ce que, au lieu d'afficher \"ERROR\" pour un automate non déterministe, le script maintenant le déterminise puis applique l'algorithme de reconnaissance sur l'automate résultant. Vous développerez donc un programme capable de dire si un mot est reconnu ou non par un automate quelconque, déterministe ou non déterministe. Voici quelques exemples d'exécution de votre programme sur la ligne de commande.\n",
    "\n",
    "```bash\n",
    "$ ./tp2automates.py test/astarbstar-epsilon.af abb\n",
    "NO\n",
    "$ ./tp2automates.py test/astarbstar-nfa.af abb\n",
    "NO\n",
    "$ ./tp2automates.py test/astarbstar-epsilon.af aaa\n",
    "YES\n",
    "$ ./tp2automates.py test/astarbstar-nfa.af bbb\n",
    "YES\n",
    "$ ./tp2automates.py test/astarbstar-nfa.af %\n",
    "YES\n",
    "```\n",
    "\n",
    "Nous vous conseillons de copier les fonctions `is_deterministic` et `recognizes` de `tp1automates.py` vers `tp2automates.py` pour éviter de perdre le travail accompli au TP1 en cas de problème, et pouvoir repartir à zéro si besoin."
   ]
  },
  {
   "cell_type": "code",
   "execution_count": null,
   "metadata": {},
   "outputs": [],
   "source": []
  }
 ],
 "metadata": {
  "colab": {
   "collapsed_sections": [],
   "name": "Automates_TP1 ",
   "provenance": [],
   "toc_visible": true
  },
  "kernelspec": {
   "display_name": "Python 3",
   "language": "python",
   "name": "python3"
  },
  "language_info": {
   "codemirror_mode": {
    "name": "ipython",
    "version": 3
   },
   "file_extension": ".py",
   "mimetype": "text/x-python",
   "name": "python",
   "nbconvert_exporter": "python",
   "pygments_lexer": "ipython3",
   "version": "3.10.0"
  }
 },
 "nbformat": 4,
 "nbformat_minor": 1
}
